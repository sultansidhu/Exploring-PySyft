{
 "cells": [
  {
   "cell_type": "code",
   "execution_count": 12,
   "id": "7a474689",
   "metadata": {},
   "outputs": [],
   "source": [
    "import numpy as np\n",
    "from ipynb.fs.full.MNIST_IID_DataLoading import load_dataset, get_actual_images"
   ]
  },
  {
   "cell_type": "code",
   "execution_count": 2,
   "id": "820a13ea",
   "metadata": {},
   "outputs": [],
   "source": [
    "num_clients = 10\n",
    "train_ds, test_ds, train_group, test_group = load_dataset(num_clients, \"iid\")"
   ]
  },
  {
   "cell_type": "code",
   "execution_count": 7,
   "id": "559b19cc",
   "metadata": {},
   "outputs": [],
   "source": [
    "first_client_batch = get_actual_images(train_ds, train_group[0], 64)"
   ]
  },
  {
   "cell_type": "code",
   "execution_count": 8,
   "id": "0f9c07d6",
   "metadata": {},
   "outputs": [
    {
     "name": "stdout",
     "output_type": "stream",
     "text": [
      "64\n"
     ]
    },
    {
     "name": "stderr",
     "output_type": "stream",
     "text": [
      "/Users/sultansidhu/Development/PySyft/MNIST_IID_DataLoading.ipynb:129: UserWarning: To copy construct from a tensor, it is recommended to use sourceTensor.clone().detach() or sourceTensor.clone().detach().requires_grad_(True), rather than torch.tensor(sourceTensor).\n",
      "  \"    return users_dict\"\n"
     ]
    }
   ],
   "source": [
    "for images, labels in first_client_batch:\n",
    "    print(len(images))\n",
    "    break"
   ]
  },
  {
   "cell_type": "code",
   "execution_count": 9,
   "id": "2aba9993",
   "metadata": {},
   "outputs": [
    {
     "name": "stdout",
     "output_type": "stream",
     "text": [
      "Collecting syft\n",
      "  Downloading syft-0.3.0-py2.py3-none-any.whl (289 kB)\n",
      "\u001b[K     |████████████████████████████████| 289 kB 4.3 MB/s eta 0:00:01\n",
      "\u001b[?25hCollecting pandas\n",
      "  Downloading pandas-1.2.4-cp38-cp38-macosx_10_9_x86_64.whl (10.5 MB)\n",
      "\u001b[K     |████████████████████████████████| 10.5 MB 5.6 MB/s eta 0:00:01\n",
      "\u001b[?25hCollecting aiortc\n",
      "  Downloading aiortc-1.2.0-cp38-cp38-macosx_10_9_x86_64.whl (1.2 MB)\n",
      "\u001b[K     |████████████████████████████████| 1.2 MB 6.8 MB/s eta 0:00:01\n",
      "\u001b[?25hCollecting flask\n",
      "  Downloading Flask-2.0.1-py3-none-any.whl (94 kB)\n",
      "\u001b[K     |████████████████████████████████| 94 kB 4.1 MB/s eta 0:00:01\n",
      "\u001b[?25hCollecting websockets\n",
      "  Downloading websockets-9.1-cp38-cp38-macosx_10_9_x86_64.whl (88 kB)\n",
      "\u001b[K     |████████████████████████████████| 88 kB 4.1 MB/s eta 0:00:01\n",
      "\u001b[?25hRequirement already satisfied: packaging in /Users/sultansidhu/opt/miniconda3/envs/pysyft/lib/python3.8/site-packages (from syft) (20.9)\n",
      "Collecting sqlitedict\n",
      "  Downloading sqlitedict-1.7.0.tar.gz (28 kB)\n",
      "Requirement already satisfied: nest-asyncio in /Users/sultansidhu/opt/miniconda3/envs/pysyft/lib/python3.8/site-packages (from syft) (1.5.1)\n",
      "Collecting protobuf\n",
      "  Downloading protobuf-3.17.3-cp38-cp38-macosx_10_9_x86_64.whl (1.0 MB)\n",
      "\u001b[K     |████████████████████████████████| 1.0 MB 1.5 MB/s eta 0:00:01\n",
      "\u001b[?25hCollecting PyNaCl\n",
      "  Downloading PyNaCl-1.4.0-cp35-abi3-macosx_10_10_x86_64.whl (380 kB)\n",
      "\u001b[K     |████████████████████████████████| 380 kB 2.4 MB/s eta 0:00:01\n",
      "\u001b[?25hCollecting requests\n",
      "  Using cached requests-2.25.1-py2.py3-none-any.whl (61 kB)\n",
      "Requirement already satisfied: torchvision in /Users/sultansidhu/opt/miniconda3/envs/pysyft/lib/python3.8/site-packages (from syft) (0.9.1)\n",
      "Requirement already satisfied: typing-extensions in /Users/sultansidhu/opt/miniconda3/envs/pysyft/lib/python3.8/site-packages (from syft) (3.7.4.3)\n",
      "Collecting dataclasses\n",
      "  Downloading dataclasses-0.6-py3-none-any.whl (14 kB)\n",
      "Collecting loguru\n",
      "  Downloading loguru-0.5.3-py3-none-any.whl (57 kB)\n",
      "\u001b[K     |████████████████████████████████| 57 kB 4.1 MB/s eta 0:00:011\n",
      "\u001b[?25hRequirement already satisfied: torch>=1.5 in /Users/sultansidhu/opt/miniconda3/envs/pysyft/lib/python3.8/site-packages (from syft) (1.8.1)\n",
      "Collecting dpcontracts\n",
      "  Downloading dpcontracts-0.6.0.tar.gz (11 kB)\n",
      "Collecting forbiddenfruit>=0.1.3\n",
      "  Downloading forbiddenfruit-0.1.4.tar.gz (43 kB)\n",
      "\u001b[K     |████████████████████████████████| 43 kB 6.4 MB/s eta 0:00:011\n",
      "\u001b[?25hCollecting typeguard\n",
      "  Downloading typeguard-2.12.1-py3-none-any.whl (17 kB)\n",
      "Requirement already satisfied: numpy in /Users/sultansidhu/opt/miniconda3/envs/pysyft/lib/python3.8/site-packages (from torch>=1.5->syft) (1.20.2)\n",
      "Requirement already satisfied: cffi>=1.0.0 in /Users/sultansidhu/opt/miniconda3/envs/pysyft/lib/python3.8/site-packages (from aiortc->syft) (1.14.5)\n",
      "Collecting pyee>=6.0.0\n",
      "  Downloading pyee-8.1.0-py2.py3-none-any.whl (12 kB)\n",
      "Collecting av<9.0.0,>=8.0.0\n",
      "  Downloading av-8.0.3-cp38-cp38-macosx_10_9_x86_64.whl (21.5 MB)\n",
      "\u001b[K     |████████████████████████████████| 21.5 MB 6.8 MB/s eta 0:00:01\n",
      "\u001b[?25hCollecting cryptography>=2.2\n",
      "  Downloading cryptography-3.4.7-cp36-abi3-macosx_10_10_x86_64.whl (2.0 MB)\n",
      "\u001b[K     |████████████████████████████████| 2.0 MB 5.8 MB/s eta 0:00:01\n",
      "\u001b[?25hCollecting pylibsrtp>=0.5.6\n",
      "  Downloading pylibsrtp-0.6.8-cp38-cp38-macosx_10_9_x86_64.whl (52 kB)\n",
      "\u001b[K     |████████████████████████████████| 52 kB 2.5 MB/s eta 0:00:011\n",
      "\u001b[?25hCollecting crc32c>=2.1\n",
      "  Downloading crc32c-2.2-cp38-cp38-macosx_10_9_x86_64.whl (28 kB)\n",
      "Collecting aioice<0.8.0,>=0.7.5\n",
      "  Downloading aioice-0.7.5-py3-none-any.whl (23 kB)\n",
      "Collecting netifaces\n",
      "  Downloading netifaces-0.11.0-cp38-cp38-macosx_10_15_x86_64.whl (12 kB)\n",
      "Collecting dnspython\n",
      "  Downloading dnspython-2.1.0-py3-none-any.whl (241 kB)\n",
      "\u001b[K     |████████████████████████████████| 241 kB 5.6 MB/s eta 0:00:01\n",
      "\u001b[?25hRequirement already satisfied: pycparser in /Users/sultansidhu/opt/miniconda3/envs/pysyft/lib/python3.8/site-packages (from cffi>=1.0.0->aiortc->syft) (2.20)\n",
      "Requirement already satisfied: Jinja2>=3.0 in /Users/sultansidhu/opt/miniconda3/envs/pysyft/lib/python3.8/site-packages (from flask->syft) (3.0.0)\n",
      "Collecting click>=7.1.2\n",
      "  Downloading click-8.0.1-py3-none-any.whl (97 kB)\n",
      "\u001b[K     |████████████████████████████████| 97 kB 5.0 MB/s eta 0:00:011\n",
      "\u001b[?25hCollecting itsdangerous>=2.0\n",
      "  Downloading itsdangerous-2.0.1-py3-none-any.whl (18 kB)\n",
      "Collecting Werkzeug>=2.0\n",
      "  Downloading Werkzeug-2.0.1-py3-none-any.whl (288 kB)\n",
      "\u001b[K     |████████████████████████████████| 288 kB 5.8 MB/s eta 0:00:01\n",
      "\u001b[?25hRequirement already satisfied: MarkupSafe>=2.0.0rc2 in /Users/sultansidhu/opt/miniconda3/envs/pysyft/lib/python3.8/site-packages (from Jinja2>=3.0->flask->syft) (2.0.1)\n",
      "Requirement already satisfied: pyparsing>=2.0.2 in /Users/sultansidhu/opt/miniconda3/envs/pysyft/lib/python3.8/site-packages (from packaging->syft) (2.4.7)\n",
      "Requirement already satisfied: python-dateutil>=2.7.3 in /Users/sultansidhu/opt/miniconda3/envs/pysyft/lib/python3.8/site-packages (from pandas->syft) (2.8.1)\n",
      "Collecting pytz>=2017.3\n",
      "  Downloading pytz-2021.1-py2.py3-none-any.whl (510 kB)\n",
      "\u001b[K     |████████████████████████████████| 510 kB 5.2 MB/s eta 0:00:01\n",
      "\u001b[?25hRequirement already satisfied: six>=1.5 in /Users/sultansidhu/opt/miniconda3/envs/pysyft/lib/python3.8/site-packages (from python-dateutil>=2.7.3->pandas->syft) (1.15.0)\n",
      "Requirement already satisfied: certifi>=2017.4.17 in /Users/sultansidhu/opt/miniconda3/envs/pysyft/lib/python3.8/site-packages (from requests->syft) (2021.5.30)\n",
      "Collecting urllib3<1.27,>=1.21.1\n",
      "  Downloading urllib3-1.26.5-py2.py3-none-any.whl (138 kB)\n",
      "\u001b[K     |████████████████████████████████| 138 kB 6.2 MB/s eta 0:00:01\n",
      "\u001b[?25hCollecting idna<3,>=2.5\n",
      "  Using cached idna-2.10-py2.py3-none-any.whl (58 kB)\n",
      "Collecting chardet<5,>=3.0.2\n",
      "  Using cached chardet-4.0.0-py2.py3-none-any.whl (178 kB)\n",
      "Requirement already satisfied: pillow>=4.1.1 in /Users/sultansidhu/opt/miniconda3/envs/pysyft/lib/python3.8/site-packages (from torchvision->syft) (8.2.0)\n",
      "Building wheels for collected packages: forbiddenfruit, dpcontracts, sqlitedict\n",
      "  Building wheel for forbiddenfruit (setup.py) ... \u001b[?25ldone\n",
      "\u001b[?25h  Created wheel for forbiddenfruit: filename=forbiddenfruit-0.1.4-py3-none-any.whl size=21790 sha256=b65297cf01deac959d0ebc8a1e4ffce6181c8551f305c09de014d86079137218\n",
      "  Stored in directory: /Users/sultansidhu/Library/Caches/pip/wheels/3f/d5/3e/ec6e29cf15d6b375e8a6be41413d7c704b6dc73c30c07b7f15\n",
      "  Building wheel for dpcontracts (setup.py) ... \u001b[?25ldone\n",
      "\u001b[?25h  Created wheel for dpcontracts: filename=dpcontracts-0.6.0-py3-none-any.whl size=13099 sha256=27aaec2351c070685736d30325629407ffe7a39ddb1b05da5340d92997d70b17\n",
      "  Stored in directory: /Users/sultansidhu/Library/Caches/pip/wheels/63/f4/c4/ea645fd00d1612696a502a27b94ca70bf9fe4e9b7209e034da\n",
      "  Building wheel for sqlitedict (setup.py) ... \u001b[?25ldone\n",
      "\u001b[?25h  Created wheel for sqlitedict: filename=sqlitedict-1.7.0-py3-none-any.whl size=14376 sha256=c5d560ae09a212a33f6a7a91e228c170b6fabdb38823ae4300f5cd6d769c7ed6\n",
      "  Stored in directory: /Users/sultansidhu/Library/Caches/pip/wheels/92/82/8c/54ef8d8770fd1a80938197e55d3ccd26eccd117f44c58f601b\n",
      "Successfully built forbiddenfruit dpcontracts sqlitedict\n",
      "Installing collected packages: netifaces, dnspython, Werkzeug, urllib3, pytz, pylibsrtp, pyee, itsdangerous, idna, cryptography, crc32c, click, chardet, av, aioice, websockets, typeguard, sqlitedict, requests, PyNaCl, protobuf, pandas, loguru, forbiddenfruit, flask, dpcontracts, dataclasses, aiortc, syft\n",
      "Successfully installed PyNaCl-1.4.0 Werkzeug-2.0.1 aioice-0.7.5 aiortc-1.2.0 av-8.0.3 chardet-4.0.0 click-8.0.1 crc32c-2.2 cryptography-3.4.7 dataclasses-0.6 dnspython-2.1.0 dpcontracts-0.6.0 flask-2.0.1 forbiddenfruit-0.1.4 idna-2.10 itsdangerous-2.0.1 loguru-0.5.3 netifaces-0.11.0 pandas-1.2.4 protobuf-3.17.3 pyee-8.1.0 pylibsrtp-0.6.8 pytz-2021.1 requests-2.25.1 sqlitedict-1.7.0 syft-0.3.0 typeguard-2.12.1 urllib3-1.26.5 websockets-9.1\n"
     ]
    }
   ],
   "source": [
    "!pip install syft"
   ]
  },
  {
   "cell_type": "code",
   "execution_count": null,
   "id": "b08852a2",
   "metadata": {},
   "outputs": [],
   "source": []
  }
 ],
 "metadata": {
  "kernelspec": {
   "display_name": "Python 3",
   "language": "python",
   "name": "python3"
  },
  "language_info": {
   "codemirror_mode": {
    "name": "ipython",
    "version": 3
   },
   "file_extension": ".py",
   "mimetype": "text/x-python",
   "name": "python",
   "nbconvert_exporter": "python",
   "pygments_lexer": "ipython3",
   "version": "3.8.10"
  }
 },
 "nbformat": 4,
 "nbformat_minor": 5
}
