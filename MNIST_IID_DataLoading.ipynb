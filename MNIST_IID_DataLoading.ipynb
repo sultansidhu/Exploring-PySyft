{
 "cells": [
  {
   "cell_type": "code",
   "execution_count": 1,
   "id": "4aa8b512",
   "metadata": {},
   "outputs": [],
   "source": [
    "import torch\n",
    "from torchvision import datasets, transforms\n",
    "from torch.utils.data import DataLoader, Dataset\n",
    "import numpy as np"
   ]
  },
  {
   "cell_type": "code",
   "execution_count": 4,
   "id": "38fa3ddf",
   "metadata": {},
   "outputs": [],
   "source": [
    "def mnistIID(dataset, num_users):\n",
    "    \"\"\"\n",
    "    Function that prepares IID data corresponding to each of the users.\n",
    "    \"\"\"\n",
    "    num_images = int(len(dataset) / num_users)\n",
    "    users_dict, indices = {}, list(range(len(dataset)))\n",
    "    for i in range(num_users):\n",
    "        np.random.seed(i)\n",
    "        users_dict[i] = set(numpy.random.choice(indices, num_images, replace=False))\n",
    "        indices = list(set(indices) - users_dict[i]) # prevents using same images by two different users\n",
    "    return users_dict  \n",
    "    "
   ]
  },
  {
   "cell_type": "code",
   "execution_count": 6,
   "id": "fcd48b6e",
   "metadata": {},
   "outputs": [],
   "source": [
    "def load_datasets(num_users):\n",
    "    transform = transforms.Compose([transforms.ToTensor(), transforms.Normalize((0.1307,), (0.3081,))])\n",
    "    train_dataset = datasets.MNIST('./data', train=True, transform=transform, download=True)\n",
    "    test_dataset = datasets.MNIST('./data', train=False, transform=transform, download=True)\n",
    "    train_group = mnistIID(train_dataset, num_users)\n",
    "    test_group = mnistIID(test_dataset, num_users)\n",
    "    return train_dataset, test_dataset, train_group, test_group"
   ]
  },
  {
   "cell_type": "code",
   "execution_count": 7,
   "id": "badaf5bf",
   "metadata": {},
   "outputs": [],
   "source": [
    "class FedDataset(Dataset):\n",
    "    def __init__(self, dataset, index):\n",
    "        self.dataset = dataset\n",
    "        self.index = [int(i) for i in index]\n",
    "        \n",
    "    def __len__(self):\n",
    "        return len(self.index)\n",
    "    \n",
    "    def __getitem__(self, item):\n",
    "        image, label = self.dataset[self.index[item]]\n",
    "        return torch.Tensor(images), torch.Tensor(label)"
   ]
  },
  {
   "cell_type": "code",
   "execution_count": 9,
   "id": "5af91f36",
   "metadata": {},
   "outputs": [],
   "source": [
    "def get_actual_images(dataset, index, batch_size):\n",
    "    return DataLoader(FedDataset(dataset, index), batch_size=batch_size, shuffle=True)"
   ]
  },
  {
   "cell_type": "code",
   "execution_count": null,
   "id": "8ee12736",
   "metadata": {},
   "outputs": [],
   "source": []
  }
 ],
 "metadata": {
  "kernelspec": {
   "display_name": "Python 3",
   "language": "python",
   "name": "python3"
  },
  "language_info": {
   "codemirror_mode": {
    "name": "ipython",
    "version": 3
   },
   "file_extension": ".py",
   "mimetype": "text/x-python",
   "name": "python",
   "nbconvert_exporter": "python",
   "pygments_lexer": "ipython3",
   "version": "3.8.10"
  }
 },
 "nbformat": 4,
 "nbformat_minor": 5
}
