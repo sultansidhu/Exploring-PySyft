{
 "cells": [
  {
   "cell_type": "code",
   "execution_count": 1,
   "id": "2e04ac8a",
   "metadata": {},
   "outputs": [],
   "source": [
    "import torch\n",
    "from torchvision import datasets, transforms\n",
    "from torch.utils.data import DataLoader, Dataset\n",
    "import numpy as np"
   ]
  },
  {
   "cell_type": "code",
   "execution_count": 2,
   "id": "ee563187",
   "metadata": {},
   "outputs": [],
   "source": [
    "def mnistIID(dataset, num_users):\n",
    "    images = int(len(dataset)/num_users)\n",
    "    users_dict, indeces = {}, [i for i in range(len(dataset))]\n",
    "    for i in range(num_users):\n",
    "        np.random.seed(i)\n",
    "        users_dict[i] = set(np.random.choice(indeces, images, replace=False))\n",
    "        indeces = list(set(indeces) - users_dict[i])\n",
    "    return users_dict\n",
    "    "
   ]
  },
  {
   "cell_type": "code",
   "execution_count": 3,
   "id": "2d70a68d",
   "metadata": {},
   "outputs": [],
   "source": [
    "def mnistNonIID(dataset, num_users, test=False):\n",
    "    classes, images = 200, 300\n",
    "    if test:\n",
    "        classes, images = 20, 500\n",
    "    classes_indx = [i for i in range(classes)]\n",
    "    users_dict = {i: np.array([]) for i in range(num_users)}\n",
    "    indeces = np.arange(classes*images)\n",
    "    unsorted_labels = dataset.train_labels.numpy()\n",
    "\n",
    "    indeces_unsortedlabels = np.vstack((indeces, unsorted_labels))\n",
    "    indeces_labels = indeces_unsortedlabels[:, indeces_unsortedlabels[1, :].argsort()]\n",
    "    indeces = indeces_labels[0, :]\n",
    "\n",
    "    for i in range(num_users):\n",
    "        np.random.seed(i)\n",
    "        temp = set(np.random.choice(classes_indx, 2, replace=False))\n",
    "        classes_indx = list(set(classes_indx) - temp)\n",
    "        for t in temp:\n",
    "            users_dict[i] = np.concatenate((users_dict[i], indeces[t*images:(t+1)*images]), axis=0)\n",
    "    return users_dict"
   ]
  },
  {
   "cell_type": "code",
   "execution_count": 4,
   "id": "efd0ec30",
   "metadata": {},
   "outputs": [],
   "source": [
    "def mnistNonIIDUnequal(dataset, num_users, test=False):\n",
    "    classes, images = 1200, 50\n",
    "    if test:\n",
    "        classes, images = 200, 50\n",
    "    classes_indx = [i for i in range(classes)]\n",
    "    users_dict = {i: np.array([]) for i in range(num_users)}\n",
    "    indeces = np.arange(classes*images)\n",
    "    unsorted_labels = dataset.train_labels.numpy()\n",
    "\n",
    "    indeces_unsortedlabels = np.vstack((indeces, unsorted_labels))\n",
    "    indeces_labels = indeces_unsortedlabels[:, indeces_unsortedlabels[1, :].argsort()]\n",
    "    indeces = indeces_labels[0, :]\n",
    "\n",
    "    min_cls_per_client = 1\n",
    "    max_cls_per_client = 30\n",
    "\n",
    "    random_selected_classes = np.random.randint(min_cls_per_client, max_cls_per_client+1, size=num_users)\n",
    "    random_selected_classes = np.around(random_selected_classes / sum(random_selected_classes) * classes)\n",
    "    random_selected_classes = random_selected_classes.astype(int)\n",
    "\n",
    "    if sum(random_selected_classes) > classes:\n",
    "        for i in range(num_users):\n",
    "            np.random.seed(i)\n",
    "            temp = set(np.random.choice(classes_indx, 1, replace=False))\n",
    "            classes_indx = list(set(classes_indx) - temp)\n",
    "            for t in temp:\n",
    "                users_dict[i] = np.concatenate((users_dict[i], indeces[t*images:(t+1)*images]), axis=0)\n",
    "\n",
    "        random_selected_classes = random_selected_classes-1\n",
    "\n",
    "        for i in range(num_users):\n",
    "            if len(classes_indx) == 0:\n",
    "                continue\n",
    "            class_size = random_selected_classes[i]\n",
    "            if class_size > len(classes_indx):\n",
    "                class_size = len(classes_indx)\n",
    "            np.random.seed(i)\n",
    "            temp = set(np.random.choice(classes_indx, class_size, replace=False))\n",
    "            classes_indx = list(set(classes_indx) - temp)\n",
    "            for t in temp:\n",
    "                users_dict[i] = np.concatenate((users_dict[i], indeces[t*images:(t+1)*images]), axis=0)\n",
    "    else:\n",
    "\n",
    "        for i in range(num_users):\n",
    "            class_size = random_selected_classes[i]\n",
    "            np.random.seed(i)\n",
    "            temp = set(np.random.choice(classes_indx, class_size, replace=False))\n",
    "            classes_indx = list(set(classes_indx) - temp)\n",
    "            for t in temp:\n",
    "                users_dict[i] = np.concatenate((users_dict[i], indeces[t*images:(t+1)*images]), axis=0)\n",
    "\n",
    "        if len(classes_indx) > 0:\n",
    "            class_size = len(classes_indx)\n",
    "            j = min(users_dict, key=lambda x: len(users_dict.get(x)))\n",
    "            temp = set(np.random.choice(classes_indx, class_size, replace=False))\n",
    "            classes_indx = list(set(classes_indx) - temp)\n",
    "            for t in temp:\n",
    "                users_dict[j] = np.concatenate((users_dict[j], indeces[t*images:(t+1)*images]), axis=0)\n",
    "\n",
    "    return users_dict"
   ]
  },
  {
   "cell_type": "code",
   "execution_count": 5,
   "id": "d75a0e58",
   "metadata": {},
   "outputs": [],
   "source": [
    "def load_dataset(num_users, iidtype):\n",
    "    tranform = transforms.Compose([transforms.ToTensor(), transforms.Normalize((0.1307,), (0.3081,))])\n",
    "    train_dataset = datasets.MNIST('./', train=True, download=True, transform=tranform)\n",
    "    test_dataset = datasets.MNIST('./', train=False, download=True, transform=tranform)\n",
    "    train_group, test_group = None, None\n",
    "    if iidtype == 'iid':\n",
    "        train_group = mnistIID(train_dataset, num_users)\n",
    "        test_group = mnistIID(test_dataset, num_users)\n",
    "    elif iidtype == 'noniid':\n",
    "        train_group = mnistNonIID(train_dataset, num_users)\n",
    "        test_group = mnistNonIID(test_dataset, num_users, True)\n",
    "    else:\n",
    "        train_group = mnistNonIIDUnequal(train_dataset, num_users)\n",
    "        test_group = mnistNonIIDUnequal(test_dataset, num_users, True)\n",
    "    return train_dataset, test_dataset, train_group, test_group"
   ]
  },
  {
   "cell_type": "code",
   "execution_count": 6,
   "id": "9694dac8",
   "metadata": {},
   "outputs": [],
   "source": [
    "class FedDataset(Dataset):\n",
    "    def __init__(self, dataset, indx):\n",
    "        self.dataset = dataset\n",
    "        self.indx = [int(i) for i in indx]\n",
    "        \n",
    "    def __len__(self):\n",
    "        return len(self.indx)\n",
    "    \n",
    "    def __getitem__(self, item):\n",
    "        images, label = self.dataset[self.indx[item]]\n",
    "        return torch.tensor(images).clone().detach(), torch.tensor(label).clone().detach()"
   ]
  },
  {
   "cell_type": "code",
   "execution_count": 7,
   "id": "27bd010c",
   "metadata": {},
   "outputs": [],
   "source": [
    "def get_actual_images(dataset, indices, batch_size):\n",
    "    return DataLoader(FedDataset(dataset, indices), batch_size=batch_size, shuffle=True)"
   ]
  },
  {
   "cell_type": "code",
   "execution_count": null,
   "id": "df09271a",
   "metadata": {},
   "outputs": [],
   "source": []
  },
  {
   "cell_type": "code",
   "execution_count": null,
   "id": "019413ca",
   "metadata": {},
   "outputs": [],
   "source": []
  }
 ],
 "metadata": {
  "kernelspec": {
   "display_name": "Python 3",
   "language": "python",
   "name": "python3"
  },
  "language_info": {
   "codemirror_mode": {
    "name": "ipython",
    "version": 3
   },
   "file_extension": ".py",
   "mimetype": "text/x-python",
   "name": "python",
   "nbconvert_exporter": "python",
   "pygments_lexer": "ipython3",
   "version": "3.8.10"
  }
 },
 "nbformat": 4,
 "nbformat_minor": 5
}
